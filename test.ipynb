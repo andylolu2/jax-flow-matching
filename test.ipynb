{
 "cells": [
  {
   "cell_type": "code",
   "execution_count": null,
   "metadata": {},
   "outputs": [],
   "source": [
    "%load_ext autoreload\n",
    "%autoreload 2"
   ]
  },
  {
   "cell_type": "code",
   "execution_count": null,
   "metadata": {},
   "outputs": [],
   "source": [
    "%matplotlib inline\n",
    "%config InlineBackend.figure_format='retina'\n",
    "\n",
    "import matplotlib.pyplot as plt\n",
    "import jax\n",
    "import jax.numpy as jnp\n",
    "import numpy as np\n",
    "\n",
    "from flow_matching.field.gaussian import u_ot\n",
    "from flow_matching.dataset.toy import ToyDataset"
   ]
  },
  {
   "cell_type": "code",
   "execution_count": null,
   "metadata": {},
   "outputs": [],
   "source": [
    "def draw_field(u, x_range=(-1, 1), y_range=(-1, 1)):\n",
    "    x, y = np.mgrid[x_range[0]:x_range[1]:20j, y_range[0]:y_range[1]:20j]\n",
    "    p = np.vstack([x.ravel(), y.ravel()]).T\n",
    "    dp = u(p)\n",
    "    plt.quiver(p[:, 0], p[:, 1], dp[:, 0], dp[:, 1])\n",
    "\n",
    "draw_field(lambda x: x)"
   ]
  },
  {
   "cell_type": "code",
   "execution_count": null,
   "metadata": {},
   "outputs": [],
   "source": [
    "ds = ToyDataset()\n",
    "x1 = ds.sample(1)[0]\n",
    "\n",
    "x0 = np.random.multivariate_normal([0, 0], np.eye(2), 1000)\n",
    "\n",
    "plt.scatter(x0[:, 0], x0[:, 1], s=3, alpha=0.5)\n",
    "plt.plot(x1[0], x1[1], 'ro')\n",
    "\n",
    "t = 0.5\n",
    "\n",
    "xt = (1 - t) * x0 + t * x1\n",
    "plt.scatter(xt[:, 0], xt[:, 1], s=3, alpha=0.5, c='g')\n",
    "\n",
    "# draw_field(lambda x: u_ot(x, t, x1), x_range=(-4, 4), y_range=(-4, 4))"
   ]
  },
  {
   "cell_type": "code",
   "execution_count": null,
   "metadata": {},
   "outputs": [],
   "source": [
    "# draw animation of the field as t changes from 0 to 1\n",
    "\n",
    "from matplotlib.animation import FuncAnimation\n",
    "\n",
    "fig, ax = plt.subplots()\n",
    "x_range = (-4, 4)\n",
    "y_range = (-4, 4)\n",
    "x, y = np.mgrid[x_range[0]:x_range[1]:20j, y_range[0]:y_range[1]:20j]\n",
    "p = np.vstack([x.ravel(), y.ravel()]).T\n",
    "\n",
    "dp = u_ot(p, 0.0, x1)\n",
    "q = ax.quiver(p[:, 0], p[:, 1], dp[:, 0], dp[:, 1])\n",
    "ax.plot(x1[0], x1[1], 'ro')[0]\n",
    "\n",
    "def update(t):\n",
    "    dp = u_ot(p, t, x1)\n",
    "    q.set_UVC(dp[:, 0], dp[:, 1])\n",
    "    return (q,)\n",
    "\n",
    "ani = FuncAnimation(fig, update, frames=np.linspace(0, 1, 100), blit=True)\n",
    "# ani.save('ot_field.gif', writer='imagemagick', fps=10)\n",
    "plt.show()\n"
   ]
  },
  {
   "cell_type": "code",
   "execution_count": null,
   "metadata": {},
   "outputs": [],
   "source": [
    "x1 = ds.sample(4000)\n",
    "x0 = np.random.multivariate_normal([0, 0], np.eye(2), len(x1))\n",
    "xt = (1 - t) * x0 + t * x1\n",
    "\n",
    "t = 0.2\n",
    "plt.scatter(x1[:, 0], x1[:, 1], s=3, alpha=0.3)\n",
    "draw_field(lambda x: jax.vmap(u_ot, in_axes=(None, None, 0))(x, t, x1).mean(0), x_range=(-8, 8), y_range=(-4, 4))\n"
   ]
  }
 ],
 "metadata": {
  "kernelspec": {
   "display_name": "base",
   "language": "python",
   "name": "python3"
  },
  "language_info": {
   "codemirror_mode": {
    "name": "ipython",
    "version": 3
   },
   "file_extension": ".py",
   "mimetype": "text/x-python",
   "name": "python",
   "nbconvert_exporter": "python",
   "pygments_lexer": "ipython3",
   "version": "3.10.14"
  }
 },
 "nbformat": 4,
 "nbformat_minor": 2
}
