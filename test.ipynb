{
 "cells": [
  {
   "cell_type": "code",
   "execution_count": null,
   "metadata": {},
   "outputs": [],
   "source": [
    "%load_ext autoreload\n",
    "%autoreload 2"
   ]
  },
  {
   "cell_type": "code",
   "execution_count": null,
   "metadata": {},
   "outputs": [],
   "source": [
    "%matplotlib inline\n",
    "%config InlineBackend.figure_format='retina'\n",
    "\n",
    "from math import ceil\n",
    "\n",
    "import matplotlib.pyplot as plt\n",
    "import jax\n",
    "import jax.numpy as jnp\n",
    "import numpy as np\n",
    "from diffrax import diffeqsolve, ODETerm, Dopri5, SaveAt\n",
    "\n",
    "from flow_matching.field.gaussian import u, p\n",
    "from flow_matching.dataset.toy import ToyDataset"
   ]
  },
  {
   "cell_type": "code",
   "execution_count": null,
   "metadata": {},
   "outputs": [],
   "source": [
    "def draw_field(u, x_range=(-1, 1), y_range=(-1, 1), ax=None):\n",
    "    x_, y_ = np.mgrid[x_range[0] : x_range[1] : 30j, y_range[0] : y_range[1] : 30j]\n",
    "    x = np.vstack([x_.ravel(), y_.ravel()]).T\n",
    "    dx = u(x)\n",
    "    dx = dx / np.linalg.norm(dx, axis=1, keepdims=True)\n",
    "    if ax is None:\n",
    "        plt.quiver(x[:, 0], x[:, 1], dx[:, 0], dx[:, 1])\n",
    "    else:\n",
    "        ax.quiver(x[:, 0], x[:, 1], dx[:, 0], dx[:, 1])\n",
    "\n",
    "\n",
    "draw_field(lambda x: x)"
   ]
  },
  {
   "cell_type": "code",
   "execution_count": null,
   "metadata": {},
   "outputs": [],
   "source": [
    "ds = ToyDataset()\n",
    "x1 = ds.sample(1)[0]\n",
    "\n",
    "x0 = np.random.multivariate_normal([0, 0], np.eye(2), 1000)\n",
    "\n",
    "plt.scatter(x0[:, 0], x0[:, 1], s=3, alpha=0.5)\n",
    "plt.plot(x1[0], x1[1], \"ro\")\n",
    "\n",
    "t = 0.5\n",
    "\n",
    "xt = (1 - t) * x0 + t * x1\n",
    "plt.scatter(xt[:, 0], xt[:, 1], s=3, alpha=0.5, c=\"g\")\n",
    "\n",
    "# draw_field(lambda x: u_ot(x, t, x1), x_range=(-4, 4), y_range=(-4, 4))"
   ]
  },
  {
   "cell_type": "code",
   "execution_count": null,
   "metadata": {},
   "outputs": [],
   "source": [
    "x1 = ds.sample(4000)\n",
    "# x0 = np.random.multivariate_normal([0, 0], np.eye(2), len(x1))\n",
    "# # xt = (1 - t) * x0 + t * x1\n",
    "\n",
    "\n",
    "def u_t(x, t):\n",
    "    \"\"\"u_t(x) ∝ E_{x_1 ~ q} u_t(x | x_1) p_t(x | x_1)\"\"\"\n",
    "    u_t_given_x1 = jax.vmap(u, in_axes=(None, None, 0))(x, t, x1)\n",
    "    p_t_given_x1 = jax.vmap(p, in_axes=(None, None, 0))(x, t, x1)\n",
    "    p_t = p_t_given_x1.mean(0)\n",
    "    return (u_t_given_x1 * p_t_given_x1[..., None]).mean(axis=0) / p_t[..., None]\n",
    "    ans = jnp.exp(logu_t_given_x1 + logp_t_given_x1).mean(0) / jnp.exp(logp_t)\n",
    "    return ans\n",
    "\n",
    "\n",
    "ts = np.linspace(0.001, 0.999, 10)\n",
    "fig, axs = plt.subplots(3, ceil(len(ts) / 3), figsize=(16, 10))\n",
    "for t, ax in zip(ts, axs.flatten()):\n",
    "    ax.scatter(x1[:, 0], x1[:, 1], s=3, alpha=0.3)\n",
    "    draw_field(\n",
    "        lambda x: u_t(x, t),\n",
    "        x_range=(-8, 8),\n",
    "        y_range=(-6, 6),\n",
    "        ax=ax,\n",
    "    )\n",
    "    ax.set_title(f\"t = {t:.1f}\")\n",
    "\n",
    "# t = 0.1\n",
    "# plt.scatter(x1[:, 0], x1[:, 1], s=3, alpha=0.3)\n",
    "# draw_field(\n",
    "#     lambda x: u_t(x, t),\n",
    "#     x_range=(-8, 8),\n",
    "#     y_range=(-4, 4),\n",
    "# )"
   ]
  },
  {
   "cell_type": "code",
   "execution_count": null,
   "metadata": {},
   "outputs": [],
   "source": [
    "x1 = ds.sample(2000)\n",
    "x0 = np.random.multivariate_normal([0, 0], np.eye(2), 500)\n",
    "# # xt = (1 - t) * x0 + t * x1\n",
    "\n",
    "\n",
    "# def u_t(x, t):\n",
    "#     \"\"\"u_t(x) ∝ E_{x_1 ~ q} u_t(x | x_1) p_t(x | x_1)\"\"\"\n",
    "#     u_t_given_x1 = jax.vmap(u, in_axes=(None, None, 0))(x, t, x1)\n",
    "#     p_t_given_x1 = jax.vmap(p, in_axes=(None, None, 0))(x, t, x1)\n",
    "#     return (u_t_given_x1 * p_t_given_x1).mean(0)\n",
    "\n",
    "\n",
    "def f(t, x, args):\n",
    "    u_t_given_x1 = jax.vmap(u, in_axes=(None, None, 0))(x, t, x1)\n",
    "    p_t_given_x1 = jax.vmap(p, in_axes=(None, None, 0))(x, t, x1)\n",
    "    p_t = p_t_given_x1.mean(0)\n",
    "    return (u_t_given_x1 * p_t_given_x1[..., None]).mean(axis=0) / p_t[..., None]\n",
    "    # return (u_t_given_x1 * p_t_given_x1).mean(0) / p_t\n",
    "\n",
    "\n",
    "term = ODETerm(f)\n",
    "solver = Dopri5()\n",
    "saveat = SaveAt(ts=jnp.linspace(0, 0.995, 51))\n",
    "solution = diffeqsolve(term, solver, t0=0, t1=0.995, dt0=0.05, y0=x0, saveat=saveat)"
   ]
  },
  {
   "cell_type": "code",
   "execution_count": null,
   "metadata": {},
   "outputs": [],
   "source": [
    "T, N, _ = solution.ys.shape  # (T N 2)\n",
    "\n",
    "from matplotlib.collections import LineCollection\n",
    "\n",
    "cm = plt.colormaps[\"coolwarm\"]\n",
    "\n",
    "lines = []\n",
    "colors = []\n",
    "for i in range(T - 1):\n",
    "    for j in range(N):\n",
    "        lines.append(solution.ys[i : i + 2, j])\n",
    "        colors.append(cm(i / T))\n",
    "\n",
    "lc = LineCollection(lines, colors=colors, alpha=0.15)\n",
    "plt.gca().add_collection(lc)\n",
    "plt.scatter(solution.ys[0, :, 0], solution.ys[0, :, 1], s=2, alpha=0.3, color=cm(0.0))\n",
    "plt.scatter(solution.ys[-1, :, 0], solution.ys[-1, :, 1], s=2, alpha=0.3, color=cm(1.0))"
   ]
  }
 ],
 "metadata": {
  "kernelspec": {
   "display_name": "base",
   "language": "python",
   "name": "python3"
  },
  "language_info": {
   "codemirror_mode": {
    "name": "ipython",
    "version": 3
   },
   "file_extension": ".py",
   "mimetype": "text/x-python",
   "name": "python",
   "nbconvert_exporter": "python",
   "pygments_lexer": "ipython3",
   "version": "3.12.4"
  }
 },
 "nbformat": 4,
 "nbformat_minor": 2
}
